{
  "nbformat": 4,
  "nbformat_minor": 0,
  "metadata": {
    "colab": {
      "provenance": [],
      "authorship_tag": "ABX9TyMwW3hrUZabIxOqs+LcT5xi",
      "include_colab_link": true
    },
    "kernelspec": {
      "name": "python3",
      "display_name": "Python 3"
    },
    "language_info": {
      "name": "python"
    }
  },
  "cells": [
    {
      "cell_type": "markdown",
      "metadata": {
        "id": "view-in-github",
        "colab_type": "text"
      },
      "source": [
        "<a href=\"https://colab.research.google.com/github/Ram-Pasupula/torch/blob/main/nn.ipynb\" target=\"_parent\"><img src=\"https://colab.research.google.com/assets/colab-badge.svg\" alt=\"Open In Colab\"/></a>"
      ]
    },
    {
      "cell_type": "code",
      "execution_count": null,
      "metadata": {
        "id": "UfGigGotjiBc"
      },
      "outputs": [],
      "source": []
    },
    {
      "cell_type": "markdown",
      "source": [
        "Torch Basic Neural Network Model\n",
        "\n",
        "https://www.researchgate.net/figure/Deep-Neural-Network-architecture_fig1_330120030"
      ],
      "metadata": {
        "id": "3PdAPaJEjkqc"
      }
    },
    {
      "cell_type": "code",
      "source": [
        "#Import packages\n",
        "\n",
        "import torch\n",
        "import torch.nn as nn\n",
        "import torch.nn.functional as F\n",
        "\n"
      ],
      "metadata": {
        "id": "dmaHKWuIjrbX"
      },
      "execution_count": null,
      "outputs": []
    },
    {
      "cell_type": "code",
      "source": [
        "#Create a model calss that inherits nn.module\n",
        "\n",
        "#dataset -https://www.kaggle.com/datasets/uciml/iris\n",
        "#https://archive.ics.uci.edu/dataset/53/iris\n",
        "#0/p- class of iris plant: Iris Setosa, Iris Versicolour, or Iris Virginica\n",
        "#sepal length\tFeature\n",
        "#sepal width\tFeature\n",
        "#petal length\tFeature\n",
        "#petal width\tFeature\n",
        "class Model(nn.Module):\n",
        "    def __init__(self, input_size=4, hidden_size1=8, hidden_size2=9, num_classes=):\n",
        "        super(Model, self).__init__()\n",
        "        self.fc1 = nn.Linear(input_size, hidden_size)"
      ],
      "metadata": {
        "id": "90d1pDpBj6dv"
      },
      "execution_count": null,
      "outputs": []
    }
  ]
}